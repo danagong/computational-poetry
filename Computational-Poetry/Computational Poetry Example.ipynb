{
 "cells": [
  {
   "cell_type": "markdown",
   "metadata": {},
   "source": [
    "# Introduction to Jupyter Notebook and Generative Text\n",
    "\n",
    "Jupyter Notebook is a really easy and user friendly way to experiment with Python code, combining code with notes and documentation. You can do all of this without having use the command line, and the resulting file can be easily published and shared with other people.\n",
    "\n",
    "An Jupyter Notebook consists of a number of \"cells,\" stacked on the page from top to bottom. Cells can have text or code in them. You can change a cell's type using the \"Cell\" menu at the top of the page; go to Cell > Cell Type and select either Code for Python code or Markdown for text. (You can also change this for the current cell using the drop-down menu in the toolbar.)\n"
   ]
  },
  {
   "cell_type": "markdown",
   "metadata": {},
   "source": [
    "### Text Cells\n",
    "Make a new cell, change its type to Markdown, type some stuff and click run. Jupyter Notebook will \"render\" the text and display it on the page in rendered format. You can hit Enter or click in the cell to edit its contents again. Text in Markdown cells is rendered according to a set of conventions called Markdown, a language for marking up text using formatting instructions."
   ]
  },
  {
   "cell_type": "markdown",
   "metadata": {},
   "source": [
    "### Code Cells"
   ]
  },
  {
   "cell_type": "code",
   "execution_count": 1,
   "metadata": {},
   "outputs": [
    {
     "name": "stdout",
     "output_type": "stream",
     "text": [
      "This is a code cell.\n",
      "\n",
      "Any Python code you type in this cell will be run when you press the 'Run' button,\n"
     ]
    }
   ],
   "source": [
    "print(\"This is a code cell.\")\n",
    "print(\"\")\n",
    "print(\"Any Python code you type in this cell will be run when you press the 'Run' button,\")"
   ]
  },
  {
   "cell_type": "markdown",
   "metadata": {},
   "source": [
    "You can define variables or import modules in one code cell and it will be available for you to in all subsequent code cells.  "
   ]
  },
  {
   "cell_type": "code",
   "execution_count": 2,
   "metadata": {},
   "outputs": [],
   "source": [
    "import random\n",
    "animals = [\"dog\", \"cat\", \"elephant\", \"zebra\"]"
   ]
  },
  {
   "cell_type": "markdown",
   "metadata": {},
   "source": [
    "Now, you can use the list of animals and the random module in the cell below."
   ]
  },
  {
   "cell_type": "code",
   "execution_count": 3,
   "metadata": {},
   "outputs": [
    {
     "name": "stdout",
     "output_type": "stream",
     "text": [
      "zebra\n"
     ]
    }
   ],
   "source": [
    "print(random.choice(animals))"
   ]
  },
  {
   "cell_type": "markdown",
   "metadata": {},
   "source": [
    "### Computational Poetry Using the Wind-Up Bird Chronicle \n",
    "First we will take a quote and reshuffle the words. Note that since we have already imported the random module above, we don't need to reimport it here."
   ]
  },
  {
   "cell_type": "code",
   "execution_count": 6,
   "metadata": {},
   "outputs": [
    {
     "name": "stdout",
     "output_type": "stream",
     "text": [
      "to in we well, being anyone? to do can achieve close\n",
      "analysis, the of final one how the important person know to\n",
      "possible, end, We the know it Is understanding convince and\n",
      "perfect that We we person, other really another we serious\n",
      "human another? come invest know ourselves efforts enormous\n",
      "essence? person's that but for energy about can anything in\n",
      "time but in\n"
     ]
    }
   ],
   "source": [
    "import textwrap\n",
    "\n",
    "txt = \"\"\"Is it possible, in the final analysis, for one human being to achieve perfect understanding of another?\n",
    "We can invest enormous time and energy in serious efforts to know another person, but in the end, how close \n",
    "can we come to that person's essence? We convince ourselves that we know the other person well, \n",
    "but do we really know anything important about anyone?\"\"\"\n",
    "\n",
    "words = txt.split()\n",
    "random.shuffle(words)\n",
    "\n",
    "print(textwrap.fill(\" \".join(words), 60))"
   ]
  },
  {
   "cell_type": "markdown",
   "metadata": {},
   "source": [
    "Now we will generate a randomized poem.\n",
    "\n",
    "This example is modified from Allison Knowles's \"House of Dust\", one of the earliest known computer generated poems to use examples from The Windup Bird Chronicle."
   ]
  },
  {
   "cell_type": "code",
   "execution_count": 3,
   "metadata": {},
   "outputs": [],
   "source": [
    "objects = ['the phone',\n",
    "           'a flame',\n",
    "           'the receiver',\n",
    "          'a chain link fence',\n",
    "          'a wind up bird',\n",
    "          'the luggage',\n",
    "          'slightly soggy soda crackers']"
   ]
  },
  {
   "cell_type": "code",
   "execution_count": 4,
   "metadata": {},
   "outputs": [],
   "source": [
    "locations = ['kitchen',\n",
    "            'cinder block wall',\n",
    "            'small stand of trees',\n",
    "            'vacant house',\n",
    "            'battlefield']"
   ]
  },
  {
   "cell_type": "code",
   "execution_count": 5,
   "metadata": {},
   "outputs": [],
   "source": [
    "people = ['a woman on the other end',\n",
    "         'a girl standing in the garden on the other side of the alley',\n",
    "         'a woman saying hello',\n",
    "         'a clairovoyant',\n",
    "         'a sad procession of people',\n",
    "         'old people']"
   ]
  },
  {
   "cell_type": "code",
   "execution_count": 6,
   "metadata": {},
   "outputs": [],
   "source": [
    "sounds = ['peoples voices',\n",
    "         'her voice',\n",
    "         'descending silence',\n",
    "         'shouts across a chasm']"
   ]
  },
  {
   "cell_type": "markdown",
   "metadata": {},
   "source": [
    "Now, we have defined all of our variables. We are going to construct a poem that combines these variables at random using a for loop and a print statement.\n",
    "\n",
    "In print statements, you add quotation marks around literal text, and use the addition sign to add variables.\n",
    "\n",
    "A for loop is statement in python that allows you to repeat the statements within the for loop as long as a condition holds true. In this example, we have determined that we want our stanza count to be 3, so our for loop will repeat itself 3 times."
   ]
  },
  {
   "cell_type": "code",
   "execution_count": 14,
   "metadata": {},
   "outputs": [
    {
     "name": "stdout",
     "output_type": "stream",
     "text": [
      "\n",
      "We looked at slightly soggy soda crackers\n",
      "     laying on the cinder block wall\n",
      "          watching old people\n",
      "                listening to descending silence —\n",
      "\n",
      "We looked at the receiver\n",
      "     laying on the our neighborhood\n",
      "          watching a woman saying hello\n",
      "                listening to her voice —\n",
      "\n",
      "We looked at a flame\n",
      "     laying on the small stand of trees\n",
      "          watching old people\n",
      "                listening to descending silence —\n"
     ]
    }
   ],
   "source": [
    "stanza_count = 3\n",
    "for i in range(stanza_count):\n",
    "    print()\n",
    "    print(\"We looked at \" + random.choice(objects))\n",
    "    print(\"     laying on the \" + random.choice(locations))\n",
    "    print(\"          watching \" + random.choice(people))\n",
    "    print(\"                listening to \" + random.choice(sounds)  + \" —\")"
   ]
  },
  {
   "cell_type": "markdown",
   "metadata": {},
   "source": [
    "## Word Vectors\n",
    "\n",
    "A really amazing pioneer in computational literature, Allison Parish, has done some amazing work on creative writing with the vectorized word. She has an really in depth talk on it [here](https://www.thestrangeloop.com/2017/experimental-creative-writing-with-the-vectorized-word.html). The rest of the workshop simplifies/combines some of her tutorials to show what you can do with vectors, language, and computation "
   ]
  },
  {
   "cell_type": "markdown",
   "metadata": {},
   "source": [
    "### Colors"
   ]
  },
  {
   "cell_type": "markdown",
   "metadata": {},
   "source": [
    "Colors are often represented in computers as vectors with three dimensions: red, green, and blue. Just as with the animals in the previous section, we can use these vectors to answer questions like: which colors are similar? What's the most likely color name for an arbitrarily chosen set of values for red, green and blue? Given the names of two colors, what's the name of those colors' \"average\"?\n",
    "\n",
    "We'll be working with [color data](https://github.com/dariusk/corpora/blob/master/data/colors/xkcd.json). The following cell loads and reads the data file so we can use it."
   ]
  },
  {
   "cell_type": "code",
   "execution_count": 4,
   "metadata": {},
   "outputs": [],
   "source": [
    "import json\n",
    "color_data = json.loads(open(\"xkcd.json\").read())"
   ]
  },
  {
   "cell_type": "markdown",
   "metadata": {},
   "source": [
    "The following function takes a hexademical color and turns it into numbers (specifically a tuple) that we can use more easily."
   ]
  },
  {
   "cell_type": "code",
   "execution_count": 5,
   "metadata": {},
   "outputs": [],
   "source": [
    "def hex_to_int(s):\n",
    "    s = s.lstrip(\"#\")\n",
    "    return int(s[:2], 16), int(s[2:4], 16), int(s[4:6], 16)"
   ]
  },
  {
   "cell_type": "markdown",
   "metadata": {},
   "source": [
    "The following cell creates a [dictionary](https://www.w3schools.com/python/python_dictionaries.asp) which are key - value pairs where each color name corresponds now to the vector we create with the previous function"
   ]
  },
  {
   "cell_type": "code",
   "execution_count": 6,
   "metadata": {},
   "outputs": [],
   "source": [
    "colors = dict()\n",
    "for item in color_data['colors']:\n",
    "    colors[item[\"color\"]] = hex_to_int(item[\"hex\"])"
   ]
  },
  {
   "cell_type": "code",
   "execution_count": 7,
   "metadata": {},
   "outputs": [
    {
     "data": {
      "text/plain": [
       "(110, 117, 14)"
      ]
     },
     "execution_count": 7,
     "metadata": {},
     "output_type": "execute_result"
    }
   ],
   "source": [
    "colors['olive']"
   ]
  },
  {
   "cell_type": "code",
   "execution_count": 8,
   "metadata": {},
   "outputs": [
    {
     "data": {
      "text/plain": [
       "(229, 0, 0)"
      ]
     },
     "execution_count": 8,
     "metadata": {},
     "output_type": "execute_result"
    }
   ],
   "source": [
    "colors['red']"
   ]
  },
  {
   "cell_type": "markdown",
   "metadata": {},
   "source": [
    "First, we need to write some functions that help us with calculations later on including addition, subtraction, and distance. These definitions are taken from [here](https://gist.github.com/aparrish/2f562e3737544cf29aaf1af30362f469). Don't worry about the syntax of these functions for now. There are also modules we can import that can help us with these functions so we do not even need to define them in the first place, but for now, let's just use these."
   ]
  },
  {
   "cell_type": "code",
   "execution_count": 27,
   "metadata": {},
   "outputs": [],
   "source": [
    "import numpy as np\n",
    "import math\n",
    "\n",
    "def distance(coord1, coord2):\n",
    "    return math.sqrt(sum([(i - j)**2 for i, j in zip(coord1, coord2)]))\n",
    "\n",
    "def subtractv(coord1, coord2):\n",
    "    return [c1 - c2 for c1, c2 in zip(coord1, coord2)]\n",
    "\n",
    "def addv(coord1, coord2):\n",
    "    return [c1 + c2 for c1, c2 in zip(coord1, coord2)]\n"
   ]
  },
  {
   "cell_type": "markdown",
   "metadata": {},
   "source": [
    "Now, we will finally do some math with our data. The following function takes our entire vector space and a specific color coordinate and finds its 10 closest colors (you can change n to be any number)"
   ]
  },
  {
   "cell_type": "code",
   "execution_count": 28,
   "metadata": {},
   "outputs": [],
   "source": [
    "def closest(space, coord, n=10):\n",
    "    closest = []\n",
    "    for key in sorted(space.keys(),\n",
    "                        key=lambda x: distance(coord, space[x]))[:n]:\n",
    "        closest.append(key)\n",
    "    return closest"
   ]
  },
  {
   "cell_type": "code",
   "execution_count": 30,
   "metadata": {},
   "outputs": [
    {
     "data": {
      "text/plain": [
       "['purple',\n",
       " 'warm purple',\n",
       " 'darkish purple',\n",
       " 'barney purple',\n",
       " 'light eggplant',\n",
       " 'purply',\n",
       " 'medium purple',\n",
       " 'ugly purple',\n",
       " 'barney',\n",
       " 'bruise']"
      ]
     },
     "execution_count": 30,
     "metadata": {},
     "output_type": "execute_result"
    }
   ],
   "source": [
    "closest(colors, colors['purple'])"
   ]
  },
  {
   "cell_type": "code",
   "execution_count": 33,
   "metadata": {},
   "outputs": [
    {
     "data": {
      "text/plain": [
       "['deep red',\n",
       " 'brick red',\n",
       " 'blood red',\n",
       " 'darkish red',\n",
       " 'burnt red',\n",
       " 'indian red',\n",
       " 'carmine',\n",
       " 'crimson',\n",
       " 'dark red',\n",
       " 'rust red']"
      ]
     },
     "execution_count": 33,
     "metadata": {},
     "output_type": "execute_result"
    }
   ],
   "source": [
    "closest(colors, [155, 15, 0])"
   ]
  },
  {
   "cell_type": "code",
   "execution_count": 34,
   "metadata": {},
   "outputs": [
    {
     "data": {
      "text/plain": [
       "['cobalt blue',\n",
       " 'royal blue',\n",
       " 'darkish blue',\n",
       " 'true blue',\n",
       " 'royal',\n",
       " 'prussian blue',\n",
       " 'dark royal blue',\n",
       " 'deep blue',\n",
       " 'marine blue',\n",
       " 'deep sea blue']"
      ]
     },
     "execution_count": 34,
     "metadata": {},
     "output_type": "execute_result"
    }
   ],
   "source": [
    "closest(colors, subtractv(colors['purple'], colors['red']))"
   ]
  },
  {
   "cell_type": "code",
   "execution_count": 38,
   "metadata": {},
   "outputs": [
    {
     "data": {
      "text/plain": [
       "['yellow',\n",
       " 'bright yellow',\n",
       " 'sunshine yellow',\n",
       " 'sunny yellow',\n",
       " 'canary yellow',\n",
       " 'lemon yellow',\n",
       " 'lemon',\n",
       " 'banana yellow',\n",
       " 'canary',\n",
       " 'pastel yellow']"
      ]
     },
     "execution_count": 38,
     "metadata": {},
     "output_type": "execute_result"
    }
   ],
   "source": [
    "closest(colors, addv(colors['yellow'], colors['orange']))"
   ]
  },
  {
   "cell_type": "markdown",
   "metadata": {},
   "source": [
    "### A Love Poem\n",
    "We start off by definding red and blue, define an array of our 10 closest colors to red and blue and loop through the arrays."
   ]
  },
  {
   "cell_type": "code",
   "execution_count": 37,
   "metadata": {},
   "outputs": [
    {
     "name": "stdout",
     "output_type": "stream",
     "text": [
      "Roses are red, violets are blue\n",
      "Roses are fire engine red, violets are vivid blue\n",
      "Roses are cherry red, violets are ultramarine blue\n",
      "Roses are cherry, violets are rich blue\n",
      "Roses are ruby, violets are blue\n",
      "Roses are lipstick, violets are azul\n",
      "Roses are pinkish red, violets are bright blue\n",
      "Roses are cerise, violets are cerulean blue\n",
      "Roses are dark hot pink, violets are azure\n",
      "Roses are deep pink, violets are bright blue\n",
      "Roses are raspberry, violets are cerulean blue\n",
      "Roses are deep magenta, violets are azure\n",
      "Roses are red violet, violets are dodger blue\n",
      "Roses are dark magenta, violets are azul\n"
     ]
    }
   ],
   "source": [
    "import random\n",
    "red = colors['red']\n",
    "blue = colors['blue']\n",
    "for i in range(14):\n",
    "    rednames = closest(colors, red)\n",
    "    bluenames = closest(colors, blue)\n",
    "    print (\"Roses are \" + rednames[0] + \", violets are \" + bluenames[0])\n",
    "    red = colors[random.choice(rednames[1:])]\n",
    "    blue = colors[random.choice(bluenames[1:])]"
   ]
  },
  {
   "cell_type": "markdown",
   "metadata": {},
   "source": [
    "There are many more ways to explore vectorized poetry, but this is just a beggining."
   ]
  },
  {
   "cell_type": "code",
   "execution_count": null,
   "metadata": {},
   "outputs": [],
   "source": []
  }
 ],
 "metadata": {
  "kernelspec": {
   "display_name": "Python 3",
   "language": "python",
   "name": "python3"
  },
  "language_info": {
   "codemirror_mode": {
    "name": "ipython",
    "version": 3
   },
   "file_extension": ".py",
   "mimetype": "text/x-python",
   "name": "python",
   "nbconvert_exporter": "python",
   "pygments_lexer": "ipython3",
   "version": "3.8.5"
  }
 },
 "nbformat": 4,
 "nbformat_minor": 4
}
